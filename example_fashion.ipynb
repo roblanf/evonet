{
 "cells": [
  {
   "cell_type": "code",
   "execution_count": 1,
   "metadata": {},
   "outputs": [
    {
     "name": "stderr",
     "output_type": "stream",
     "text": [
      "Using TensorFlow backend.\n"
     ]
    }
   ],
   "source": [
    "# an example\n",
    "from keras.utils.np_utils import to_categorical\n",
    "from keras.layers import Dense\n",
    "import pandas as pd\n",
    "from lineage import Lineage\n",
    "import numpy as np\n",
    "from individual import Individual\n",
    "import pickle\n",
    "import zipfile\n",
    "\n",
    "\n",
    "# load the data\n",
    "#train = pd.read_csv('mnist_train.csv')\n",
    "\n",
    "# for fashion mnist\n",
    "with zipfile.ZipFile(\"fashion-mnist_train.csv.zip\",\"r\") as zip_ref:\n",
    "    zip_ref.extractall()\n",
    "\n",
    "train = pd.read_csv('fashion-mnist_train.csv')\n",
    "\n",
    "Y_train = train[['label']]\n",
    "X_train = train.drop(train.columns[[0]], axis=1)\n",
    "\n",
    "#Reshape the training set\n",
    "X_train = np.array(X_train)\n",
    "X_train = X_train.reshape(X_train.shape[0], 28, 28, 1)\n",
    "\n",
    "#Padding the images by 2 pixels since in the paper input images were 32x32\n",
    "X_train = np.pad(X_train, ((0,0),(2,2),(2,2),(0,0)), 'constant')\n",
    "\n",
    "#Standardization\n",
    "mean_px = X_train.mean().astype(np.float32)\n",
    "std_px = X_train.std().astype(np.float32)\n",
    "X_train = (X_train - mean_px)/(std_px)\n",
    "\n",
    "#One-hot encoding the labels\n",
    "Y_train = to_categorical(Y_train)\n",
    "\n",
    "# Here's where we start doing things for the evolutionary algorithm\n",
    "# First we split off a validation set for assessing fitness\n",
    "# we'll use the validation set to calculate network fitness\n",
    "\n",
    "X_val = X_train[0:10000]\n",
    "Y_val = Y_train[0:10000]\n",
    "\n",
    "X_train = X_train[10000:]\n",
    "Y_train = Y_train[10000:]\n",
    "\n",
    "\n",
    "# We need a few things to establish a population\n",
    "\n",
    "# what will the output layer look like?\n",
    "output_config = Dense(units = 10, activation = 'softmax').get_config()\n",
    "\n",
    "# shape of the input data\n",
    "input_shape = (32, 32, 1)\n",
    "\n",
    "# name of the loss function to use\n",
    "loss = 'categorical_crossentropy'\n"
   ]
  },
  {
   "cell_type": "code",
   "execution_count": 2,
   "metadata": {},
   "outputs": [
    {
     "data": {
      "text/plain": [
       "(10000, 32, 32, 1)"
      ]
     },
     "execution_count": 2,
     "metadata": {},
     "output_type": "execute_result"
    }
   ],
   "source": [
    "X_val.shape"
   ]
  },
  {
   "cell_type": "code",
   "execution_count": 3,
   "metadata": {},
   "outputs": [
    {
     "data": {
      "text/plain": [
       "(50000, 32, 32, 1)"
      ]
     },
     "execution_count": 3,
     "metadata": {},
     "output_type": "execute_result"
    }
   ],
   "source": [
    "X_train.shape"
   ]
  },
  {
   "cell_type": "code",
   "execution_count": 4,
   "metadata": {},
   "outputs": [],
   "source": [
    "test = Lineage(input_shape, output_config, loss, X_train, Y_train, X_val, Y_val, trainsize = 50000, valsize = 10000, name=\"fashion2\")"
   ]
  },
  {
   "cell_type": "code",
   "execution_count": null,
   "metadata": {},
   "outputs": [],
   "source": [
    "test.initialise(200)"
   ]
  },
  {
   "cell_type": "code",
   "execution_count": null,
   "metadata": {},
   "outputs": [],
   "source": [
    "test.evolve([50]*10, selection='weighted')\n",
    "test.evolve([50]*10, selection='rank')\n",
    "test.evolve([50]*10, selection='rank2')\n",
    "test.evolve([20]*20, keep=1)\n",
    "test.evolve([10]*50, keep=1)\n",
    "test.explore(200, type='climb')"
   ]
  },
  {
   "cell_type": "code",
   "execution_count": null,
   "metadata": {},
   "outputs": [],
   "source": []
  },
  {
   "cell_type": "code",
   "execution_count": null,
   "metadata": {},
   "outputs": [],
   "source": []
  },
  {
   "cell_type": "code",
   "execution_count": null,
   "metadata": {},
   "outputs": [],
   "source": []
  },
  {
   "cell_type": "code",
   "execution_count": null,
   "metadata": {},
   "outputs": [],
   "source": []
  },
  {
   "cell_type": "code",
   "execution_count": null,
   "metadata": {},
   "outputs": [],
   "source": []
  },
  {
   "cell_type": "code",
   "execution_count": null,
   "metadata": {},
   "outputs": [],
   "source": []
  }
 ],
 "metadata": {
  "kernelspec": {
   "display_name": "Python 3",
   "language": "python",
   "name": "python3"
  },
  "language_info": {
   "codemirror_mode": {
    "name": "ipython",
    "version": 3
   },
   "file_extension": ".py",
   "mimetype": "text/x-python",
   "name": "python",
   "nbconvert_exporter": "python",
   "pygments_lexer": "ipython3",
   "version": "3.6.5"
  }
 },
 "nbformat": 4,
 "nbformat_minor": 2
}
